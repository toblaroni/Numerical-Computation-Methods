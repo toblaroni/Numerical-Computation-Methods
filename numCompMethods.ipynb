{
  "cells": [
    {
      "cell_type": "markdown",
      "metadata": {
        "id": "view-in-github",
        "colab_type": "text"
      },
      "source": [
        "<a href=\"https://colab.research.google.com/github/toblaroni/Numerical-Computation-Methods/blob/main/numCompMethods.ipynb\" target=\"_parent\"><img src=\"https://colab.research.google.com/assets/colab-badge.svg\" alt=\"Open In Colab\"/></a>"
      ]
    },
    {
      "cell_type": "code",
      "execution_count": null,
      "id": "20a2a305-203a-40b0-9451-df559100f61c",
      "metadata": {
        "id": "20a2a305-203a-40b0-9451-df559100f61c"
      },
      "outputs": [],
      "source": [
        "import numpy as np"
      ]
    },
    {
      "cell_type": "markdown",
      "source": [
        "# Gaussian elimination"
      ],
      "metadata": {
        "id": "zOfW2fFt5YUO"
      },
      "id": "zOfW2fFt5YUO"
    },
    {
      "cell_type": "code",
      "source": [
        "def lower_triangular_solve(A, b):\n",
        "    # Make sure the arrays are stored with correct type\n",
        "    A = A.astype(np.float64)\n",
        "    b = b.astype(np.float64)\n",
        "    \n",
        "    # Check A is lower triangular\n",
        "    rows = A.shape[0]\n",
        "    cols = A.shape[1]\n",
        "    \n",
        "    x = np.zeros(b.shape)\n",
        "    \n",
        "    for i in range(0, rows):\n",
        "        for j in range(i + 1, cols):\n",
        "            if (j > i and not np.isclose(A[i, j], 0)):\n",
        "                print(\"Array A is not lower triangular\")\n",
        "                return\n",
        "            elif j == i and np.isclose(A[i, j], 0):\n",
        "                print(\"Array A is not lower triangular1\")\n",
        "                return\n",
        "            \n",
        "    # Solve the system\n",
        "    for i in range(0, rows):\n",
        "        rA = 1 / A[i][i]\n",
        "        sum = 0\n",
        "        for j in range(0, i):\n",
        "            sum += A[i][j] * x[j]\n",
        "        x[i] = rA * (b[i] - sum)\n",
        "    return x"
      ],
      "metadata": {
        "id": "tPc1UEQ74rGy"
      },
      "id": "tPc1UEQ74rGy",
      "execution_count": null,
      "outputs": []
    },
    {
      "cell_type": "code",
      "source": [
        "def upper_triangular_solve(A, b):\n",
        "    # Make sure array is stored correctly\n",
        "    A = A.astype(np.float64)\n",
        "    b = b.astype(np.float64)\n",
        "    \n",
        "    # Make sure the array is square\n",
        "    n, m = A.shape\n",
        "    if (n != m):\n",
        "        print(\"A is not square\")\n",
        "    \n",
        "    # Make sure it's lower triangular\n",
        "    for i in range(0, n):\n",
        "        for j in range(0, i + 1):\n",
        "            if j < i and not np.isclose(A[i, j], 0):\n",
        "                print(\"A is not upper triangular\")\n",
        "                return\n",
        "            elif j == i and np.isclose(A[i, j], 0):\n",
        "                print(\"A is not upper triangular\")\n",
        "                return\n",
        "            \n",
        "    x = np.empty_like(b)\n",
        "    \n",
        "    # Solve by backward substitution\n",
        "    x[n - 1] = b[n - 1] / A[n - 1, m - 1]\n",
        "    for i in range(2, n+1):\n",
        "        x[n-i] = b[n-i] / A[n-i, n-i]\n",
        "        for j in range(n-i+1, m):\n",
        "            x[n-i] -= A[n-i,j]*x[j] / A[n-i, n-i]\n",
        "    return x"
      ],
      "metadata": {
        "id": "oO3X4tOEJZwe"
      },
      "id": "oO3X4tOEJZwe",
      "execution_count": null,
      "outputs": []
    },
    {
      "cell_type": "code",
      "source": [
        "def gauss_elimination(A, b):\n",
        "    # Convert to proper precision\n",
        "    A = A.astype(np.float64)\n",
        "    b = b.astype(np.float64)\n",
        "    \n",
        "    # Check shape and diagonals\n",
        "    n, m = A.shape\n",
        "    if not n == m:\n",
        "        raise ValueError(f\"A is not square matrix. n={n}, m={m}\")\n",
        "    for i in range(0, n):\n",
        "        if (A[i, i] == 0):\n",
        "            raise ValueError(f\"Non-zero diagonal value at index {i}\")\n",
        "            \n",
        "    # Perform forward elimination\n",
        "    for j in range(n):\n",
        "        for i in range(j + 1, n):\n",
        "            factor = A[i, j] / A[j, j]\n",
        "            b[i] -= factor * b[j]\n",
        "            for k in range(0, n):\n",
        "                A[i, k] -= factor * A[j, k]\n",
        "\n",
        "    return upper_triangular_solve(A, b)"
      ],
      "metadata": {
        "id": "yYdr58b74zj2"
      },
      "id": "yYdr58b74zj2",
      "execution_count": null,
      "outputs": []
    },
    {
      "cell_type": "markdown",
      "source": [
        "# Iterative Methods"
      ],
      "metadata": {
        "id": "D8IqOmMy5NMh"
      },
      "id": "D8IqOmMy5NMh"
    },
    {
      "cell_type": "code",
      "execution_count": null,
      "id": "5e738f15-8409-44cd-800f-efd9882bc304",
      "metadata": {
        "id": "5e738f15-8409-44cd-800f-efd9882bc304"
      },
      "outputs": [],
      "source": [
        "def Jacobi_iteration(A, b, max_iteration, x0=None):\n",
        "    A = A.astype(np.float64)\n",
        "    b = b.astype(np.float64)\n",
        "    \n",
        "    n = len(b)\n",
        "    \n",
        "    for i in range(n):\n",
        "        if np.isclose(A[i, i], 0):\n",
        "            print(\"Diagonal element is non zero\")\n",
        "            return\n",
        "    \n",
        "    P = np.zeros([n, n])\n",
        "    p = np.zeros(n)\n",
        "    for i in range(n):\n",
        "        # Compute P and p\n",
        "        p[i] = b[i] / A[i, i]\n",
        "        for j in range(n):\n",
        "            P[i, j] = A[i, j] / A[i, i]\n",
        "        P[i, i] = 0\n",
        "\n",
        "    if x0 is None:\n",
        "        x = np.zeros_like(b)\n",
        "    else:\n",
        "        x = x0.copy()\n",
        "\n",
        "    # Compute\n",
        "    x = np.zeros(n)\n",
        "    for it in range(max_iteration):\n",
        "        x = p - np.matmul(P, x)\n",
        "    \n",
        "    return x"
      ]
    },
    {
      "cell_type": "code",
      "source": [
        "# Test\n",
        "A = np.array([[2, 1], [1, 2]])\n",
        "b = np.array([3, 3])\n",
        "x_exact = np.array([1,1])\n",
        "\n",
        "myX = Jacobi_iteration(A, b, 100)\n",
        "print('my solution = ', myX)\n"
      ],
      "metadata": {
        "colab": {
          "base_uri": "https://localhost:8080/"
        },
        "id": "XWoQYiOopPKU",
        "outputId": "d95ed97a-89aa-4459-d590-085d68ebe33d"
      },
      "id": "XWoQYiOopPKU",
      "execution_count": null,
      "outputs": [
        {
          "output_type": "stream",
          "name": "stdout",
          "text": [
            "my solution =  [1. 1.]\n"
          ]
        }
      ]
    },
    {
      "cell_type": "code",
      "execution_count": null,
      "id": "7a906207-1c4f-431c-9b32-097b53818b27",
      "metadata": {
        "id": "7a906207-1c4f-431c-9b32-097b53818b27"
      },
      "outputs": [],
      "source": [
        "def Gauss_Seidel_iteration(A, b, max_iteration, x0=None):\n",
        "    A = A.astype(np.float64)\n",
        "    b = b.astype(np.float64)\n",
        "\n",
        "    n, m = A.shape\n",
        "    \n",
        "    for i in range(n):\n",
        "        if np.isclose(A[i, i], 0):\n",
        "            print(\"Diagonal element (%f %f) is zero!\" %(i, i))\n",
        "            return\n",
        "        \n",
        "    LD = np.zeros_like(A)\n",
        "    U = np.zeros_like(A)\n",
        "    for i in range(n):\n",
        "        for j in range(n):\n",
        "            if i < j:\n",
        "                U[i, j] = A[i, j]\n",
        "            else:\n",
        "                LD[i, j] = A[i, j]\n",
        "\n",
        "    p = lower_triangular_solve(LD, b)\n",
        "    \n",
        "    if x0 is None:\n",
        "        x = np.zeros_like(b)\n",
        "    else:\n",
        "        x = x0.copy()\n",
        "\n",
        "    # Array to hold the results\n",
        "    Ux = np.empty_like(x)\n",
        "    for it in range(max_iteration):\n",
        "        for i in range(n):\n",
        "            Ux[i] = 0.0\n",
        "            for j in range(i+1, n):\n",
        "                Ux[i] += U[i, j] * x[j]\n",
        "        Px = lower_triangular_solve(LD, Ux)\n",
        "        x = p - Px\n",
        "    return x"
      ]
    },
    {
      "cell_type": "code",
      "source": [
        "# Test different linear solvers starting from the above two-dimensional linear system\n",
        "A = np.array([[2, 1], [1, 2]])\n",
        "b = np.array([3, 3])\n",
        "x_exact = np.array([1,1])\n",
        "\n",
        "# numpy linear solver\n",
        "x0 = np.linalg.solve(A,b)\n",
        "print(\"Solution by numpy solver:\", x0)\n",
        "\n",
        "x = Jacobi_iteration(A, b, 40)\n",
        "print(\"Solution by Jacobi iteration: \",x)\n",
        "print(\"Error: \", x - x_exact)\n",
        "print(\"Residual: \", np.matmul(A,x)-b)\n",
        "\n",
        "x = Gauss_Seidel_iteration(A, b, 4)\n",
        "print(\"Solution by Gauss Seidel iteration: \",x)\n",
        "print(\"Error: \", x - x_exact)\n",
        "print(\"Residual: \", np.matmul(A,x)-b)"
      ],
      "metadata": {
        "colab": {
          "base_uri": "https://localhost:8080/"
        },
        "id": "t5NfD6J7BOeF",
        "outputId": "d85a5fd5-de46-4671-84cc-937ff4b3983d"
      },
      "id": "t5NfD6J7BOeF",
      "execution_count": null,
      "outputs": [
        {
          "output_type": "stream",
          "name": "stdout",
          "text": [
            "Solution by numpy solver: [1. 1.]\n",
            "Solution by Jacobi iteration:  [1. 1.]\n",
            "Error:  [-9.09494702e-13 -9.09494702e-13]\n",
            "Residual:  [-2.72848411e-12 -2.72848411e-12]\n",
            "Solution by Gauss Seidel iteration:  [1.0078125  0.99609375]\n",
            "Error:  [ 0.0078125  -0.00390625]\n",
            "Residual:  [0.01171875 0.        ]\n"
          ]
        }
      ]
    },
    {
      "cell_type": "markdown",
      "source": [
        "# Gaussian Elimination With pivoting"
      ],
      "metadata": {
        "id": "0zT1UhmPD_4l"
      },
      "id": "0zT1UhmPD_4l"
    },
    {
      "cell_type": "code",
      "source": [
        "def Gaussian_elimination_pivoting(A, b):\n",
        "    A = A.astype(np.float64)\n",
        "    b = b.astype(np.float64)\n",
        "\n",
        "    n = len(b)\n",
        "\n",
        "    for i in range(n):\n",
        "        maximum = A[i, i]\n",
        "        max_index = i\n",
        "        for j in range(i+1, n):\n",
        "            if abs(A[j, i]) > maximum:\n",
        "                maximum = abs(A[j, i])\n",
        "                max_index = j\n",
        "\n",
        "        # Swap rows if necessary\n",
        "        if max_index is not i:\n",
        "            for j in range(n):\n",
        "                tmp = A[i, j]\n",
        "                A[i, j] = A[max_index, j]\n",
        "                A[max_index, j] = tmp\n",
        "            tmp = b[i]\n",
        "            b[i] = b[max_index]\n",
        "            b[max_index] = tmp\n",
        "        \n",
        "        # Gaussian elimination to create upper triangular matrix\n",
        "        for j in range(i + 1, n):\n",
        "            factor = A[j, i] / A[i, i]\n",
        "            b[j] -= factor * b[i]\n",
        "            for k in range(0, n):\n",
        "                A[j, k] -= factor * A[i, k]\n",
        "\n",
        "    return upper_triangular_solve(A, b)"
      ],
      "metadata": {
        "id": "csTs3xh9DjPX"
      },
      "id": "csTs3xh9DjPX",
      "execution_count": null,
      "outputs": []
    },
    {
      "cell_type": "code",
      "source": [
        "# Testing\n",
        "A = np.array([[-10, 2, 0, 67],\n",
        "              [-2, 50, -77, 1.e-5],\n",
        "              [1, 7, 30, 8],\n",
        "              [-100, -7, 0.001, 80]])\n",
        "b = np.array([1, 2, 9, 0])\n",
        "\n",
        "# numpy linear solvers\n",
        "x0 = np.linalg.solve(A,b)\n",
        "print(\"Solution by numpy solver:\", x0)\n",
        "\n",
        "x = Gaussian_elimination_pivoting(A, b)\n",
        "print(\"Gaussian elimination: \",x)\n",
        "print(\"Residual: \", np.matmul(A,x)-b)"
      ],
      "metadata": {
        "colab": {
          "base_uri": "https://localhost:8080/"
        },
        "id": "lmR6_ZHdKp9b",
        "outputId": "d1a37d4c-eadb-4cb4-8595-efde70c7b129"
      },
      "id": "lmR6_ZHdKp9b",
      "execution_count": null,
      "outputs": [
        {
          "output_type": "stream",
          "name": "stdout",
          "text": [
            "Solution by numpy solver: [-2.58309032e-02  3.69501922e-01  2.14633220e-01  4.01063176e-05]\n",
            "Gaussian elimination:  [-2.58309032e-02  3.69501922e-01  2.14633220e-01  4.01063176e-05]\n",
            "Residual:  [0.00000000e+00 3.55271368e-15 0.00000000e+00 0.00000000e+00]\n"
          ]
        }
      ]
    },
    {
      "cell_type": "markdown",
      "source": [
        "# Sparse matrix multiplication"
      ],
      "metadata": {
        "id": "s34LNRIeMMfe"
      },
      "id": "s34LNRIeMMfe"
    },
    {
      "cell_type": "code",
      "source": [
        "import numpy as np\n",
        "\n",
        "A_real = np.array([3, 1.5, 4, 4, 2.2, 2, 6, 4, -9], dtype=np.float64)\n",
        "I_row = np.array([0,   0,  1, 1,  1,  2, 2, 3, 3], dtype=np.int32)\n",
        "I_col = np.array([0,   2,  0, 1,  2,  1, 2, 2, 3], dtype=np.int32) \n",
        "\n",
        "nonzero = len(A_real)\n",
        "dim = 4\n",
        "y = np.zeros(dim) + 1.\n",
        "z = np.zeros(dim)\n",
        "\n",
        "for k in range(nonzero):\n",
        "    z[I_row[k]] += A_real[k] * y[I_col[k]]\n",
        "\n",
        "print(z)"
      ],
      "metadata": {
        "colab": {
          "base_uri": "https://localhost:8080/"
        },
        "id": "pADFXj_mMK5O",
        "outputId": "4e1fc552-dddb-4542-8704-7cc9626c9d06"
      },
      "id": "pADFXj_mMK5O",
      "execution_count": null,
      "outputs": [
        {
          "output_type": "stream",
          "name": "stdout",
          "text": [
            "[ 4.5 10.2  8.  -5. ]\n"
          ]
        }
      ]
    },
    {
      "cell_type": "markdown",
      "source": [
        "# Euler's Method"
      ],
      "metadata": {
        "id": "nveB00pFh9Ko"
      },
      "id": "nveB00pFh9Ko"
    },
    {
      "cell_type": "code",
      "source": [
        "def Euler_method(t0, d0, dt, n):\n",
        "    d = np.zeros(n+1)\n",
        "    d[0] = d0\n",
        "\n",
        "    t = np.zeros(n+1)\n",
        "    for i in range(n+1):\n",
        "        t[i] = t0 + i * dt\n",
        "\n",
        "    # Compute Euler's method\n",
        "    for it in range(1, n+1):\n",
        "        d[it] = d[it - 1] + dt * f(t[it - 1], d[it - 1])\n",
        "\n",
        "    return t, d\n"
      ],
      "metadata": {
        "id": "dFm2WENPh6c3"
      },
      "id": "dFm2WENPh6c3",
      "execution_count": null,
      "outputs": []
    },
    {
      "cell_type": "markdown",
      "source": [
        "# Midpoint method"
      ],
      "metadata": {
        "id": "YuO8E0b42yOf"
      },
      "id": "YuO8E0b42yOf"
    },
    {
      "cell_type": "code",
      "source": [
        "def midpoint_method(t0, d0, dt, n):\n",
        "    d = np.zeros(n+1)\n",
        "    d[0] = d0\n",
        "\n",
        "    t = np.zeros(n+1)\n",
        "    for i in range(n+1):\n",
        "        t[i] = t0 + dt*i\n",
        "    \n",
        "    for i in range(1, n+1):\n",
        "        d_mid = d[i-1] + 0.5 * dt * f(t[i-1], d[i-1])\n",
        "        t_mid = t[i-1] + dt*0.5\n",
        "        d[i] = d[i-1] + dt * f(t_mid, d_mid)\n",
        "\n",
        "    return t, d"
      ],
      "metadata": {
        "id": "Y6vkShoy2QdJ"
      },
      "id": "Y6vkShoy2QdJ",
      "execution_count": null,
      "outputs": []
    },
    {
      "cell_type": "code",
      "source": [
        "def f(t, d):\n",
        "    return 2 * np.sqrt(d)\n",
        "\n",
        "def d_exact(t):\n",
        "    return t**2\n",
        "\n",
        "t0 = float(0.1)\n",
        "d0 = float(0.001)\n",
        "dt = float(0.1)\n",
        "n = int(10)\n",
        "\n",
        "t_Euler, d_Euler = Euler_method(t0, d0, dt, n)\n",
        "t_midpoint, d_midpoint = midpoint_method(t0, d0, dt, n)\n",
        "\n",
        "\n",
        "de = np.zeros(n+1)\n",
        "for i in range(n+1):\n",
        "    de[i] = d_exact(t_Euler[i])\n",
        "    \n",
        "\n",
        "print(d_Euler)\n",
        "# import matplotlib.pyplot as plt\n",
        "# fig = plt.figure()\n",
        "# plt.plot(t_Euler, d_Euler, \"-b\", label=\"Euler\")\n",
        "# plt.plot(t_Euler, de, \"-r\", label=\"Exact\")\n",
        "# plt.plot(t_midpoint, d_midpoint, \"--g\", label=\"midpoint\")\n",
        "# plt.legend(loc=\"upper left\")\n",
        "# plt.xlabel(\"t\")\n",
        "# plt.ylabel(\"d\")\n",
        "# plt.grid()\n",
        "# plt.show()"
      ],
      "metadata": {
        "colab": {
          "base_uri": "https://localhost:8080/"
        },
        "id": "NqCeou6I5qc3",
        "outputId": "aa7c811b-f88c-4ba7-ee7f-b37a69f3c548"
      },
      "id": "NqCeou6I5qc3",
      "execution_count": null,
      "outputs": [
        {
          "output_type": "stream",
          "name": "stdout",
          "text": [
            "[0.001      0.00732456 0.02444128 0.05570869 0.10291407 0.16707452\n",
            " 0.24882401 0.34858854 0.46667131 0.603298   0.75864253]\n"
          ]
        }
      ]
    },
    {
      "cell_type": "markdown",
      "source": [
        "# Bisection and Newton Methods"
      ],
      "metadata": {
        "id": "ra987lYDKNhc"
      },
      "id": "ra987lYDKNhc"
    },
    {
      "cell_type": "code",
      "source": [
        "def newton(f, df, x0, tol, n):\n",
        "    x = x0\n",
        "    y = f(x)\n",
        "    it = 0\n",
        "    while abs(y) > tol and it < n:\n",
        "        it += 1\n",
        "        x -= y / df(x)\n",
        "        y = f(x)\n",
        "    return x, it\n",
        "\n",
        "def bisection(f, x0, x1, tol, n):\n",
        "    it = 0\n",
        "    x = (x0 + x1) / 2.\n",
        "    xL = x0\n",
        "    xR = x1\n",
        "\n",
        "    y = f(x)\n",
        "    yL = f(xL)\n",
        "    yR = f(xR)\n",
        "    while abs(y) > tol and it < n:\n",
        "        if (it > 10000):\n",
        "            print(\"Bisection Method failed to converge\")\n",
        "            return None, None\n",
        "        if y*yL < 0:\n",
        "            xR = x\n",
        "            yR = y\n",
        "        elif y * yR < 0:\n",
        "            xL = x\n",
        "            yL = y\n",
        "        x = (xL + xR) / 2\n",
        "        y = f(x)\n",
        "        it += 1\n",
        "    \n",
        "    return x, it"
      ],
      "metadata": {
        "id": "4kFpA5FbSG2N"
      },
      "id": "4kFpA5FbSG2N",
      "execution_count": null,
      "outputs": []
    },
    {
      "cell_type": "code",
      "source": [
        "def f(t):\n",
        "    return t*t*t - 2.0\n",
        "\n",
        "def df(t):\n",
        "    return 3.*t*t\n",
        "\n",
        "\n",
        "x, it = newton(f, df, 2.0, 1.e-6, 10)\n",
        "print(f\"Newton's method: {x} after {it} iterations\")\n",
        "\n",
        "x, it = bisection(f, 0.0, 2.0, 1.e-6, 100)\n",
        "print(f\"Bisection method: {x} after {it} iterations\")"
      ],
      "metadata": {
        "colab": {
          "base_uri": "https://localhost:8080/"
        },
        "id": "OqHZlPJVspC1",
        "outputId": "0270d077-fdb9-4b2a-fbe8-c264cb70b0bf"
      },
      "id": "OqHZlPJVspC1",
      "execution_count": null,
      "outputs": [
        {
          "output_type": "stream",
          "name": "stdout",
          "text": [
            "Newton's method: 1.2599210498953948 after 5 iterations\n",
            "Bisection method: 1.2599210739135742 after 20 iterations\n"
          ]
        }
      ]
    }
  ],
  "metadata": {
    "kernelspec": {
      "display_name": "Python 3 (ipykernel)",
      "language": "python",
      "name": "python3"
    },
    "language_info": {
      "codemirror_mode": {
        "name": "ipython",
        "version": 3
      },
      "file_extension": ".py",
      "mimetype": "text/x-python",
      "name": "python",
      "nbconvert_exporter": "python",
      "pygments_lexer": "ipython3",
      "version": "3.9.12"
    },
    "colab": {
      "provenance": [],
      "include_colab_link": true
    }
  },
  "nbformat": 4,
  "nbformat_minor": 5
}